{
 "cells": [
  {
   "cell_type": "code",
   "execution_count": 1,
   "id": "d6614c22",
   "metadata": {},
   "outputs": [],
   "source": [
    "from langchain.chat_models import ChatOpenAI\n",
    "from langchain.memory import ConversationSummaryBufferMemory\n",
    "from langchain.prompts.few_shot import FewShotChatMessagePromptTemplate\n",
    "from langchain.callbacks import StreamingStdOutCallbackHandler\n",
    "from langchain.prompts import  ChatPromptTemplate\n",
    "from langchain.chains import LLMChain\n",
    "from langchain.schema.runnable import RunnablePassthrough\n",
    "from langchain.prompts import ChatPromptTemplate, MessagesPlaceholder\n",
    "\n",
    "chat = ChatOpenAI(\n",
    "    temperature=0.1,\n",
    "    streaming=True,\n",
    "    callbacks=[\n",
    "        StreamingStdOutCallbackHandler(),\n",
    "    ],\n",
    ")\n",
    "\n",
    "memory = ConversationSummaryBufferMemory(\n",
    "    llm=chat,\n",
    "    max_length=20,\n",
    "    max_token_limit=100,\n",
    "    return_messages=True,\n",
    "\n",
    ")\n",
    "\n",
    "examples = [\n",
    "    {\n",
    "        \"movie\": \"Top Gun\",\n",
    "        \"answer\": \"\"\"\n",
    "        🛩️👨‍✈️🔥\n",
    "        \"\"\",\n",
    "    },\n",
    "    {\n",
    "        \"movie\": \"The Godfather\",\n",
    "        \"answer\": \"\"\"\n",
    "        👨‍👨‍👦🔫🍝\n",
    "        \"\"\",\n",
    "    },\n",
    "    {\n",
    "        \"movie\": \"Titanic\",\n",
    "        \"answer\": \"\"\"\n",
    "       🚢💑🧊\n",
    "        \"\"\",\n",
    "    },\n",
    "    {\n",
    "        \"movie\": \"Inception\",\n",
    "        \"answer\": \"\"\"\n",
    "       🧠🌀🕰️\n",
    "        \"\"\",\n",
    "    },\n",
    "]\n",
    "\n",
    "\n",
    "example_prompt = ChatPromptTemplate.from_messages(\n",
    "    [\n",
    "        (\"human\", \"What do you know about {movie}?\"),\n",
    "        (\"ai\", \"{answer}\"),\n",
    "    ]\n",
    ")\n",
    "\n",
    "def load_memory(_):\n",
    "    return memory.load_memory_variables({})[\"history\"]\n",
    "\n",
    "\n",
    "\n",
    "example_prompt = FewShotChatMessagePromptTemplate(\n",
    "    example_prompt=example_prompt,\n",
    "    examples=examples,\n",
    ")\n",
    "\n",
    "final_prompt = ChatPromptTemplate.from_messages(\n",
    "    [\n",
    "        (\"system\", \"You are an expert who explains the movie with three emojis.\"),\n",
    "        MessagesPlaceholder(variable_name=\"history\"),\n",
    "        example_prompt,\n",
    "        (\"human\", \"{question}\"),\n",
    "    ]\n",
    ")\n",
    "\n",
    "chain = RunnablePassthrough.assign(history=load_memory) | final_prompt | chat\n",
    "\n",
    "\n",
    "def invoke_chain(question):\n",
    "    result = chain.invoke({\"question\": question})\n",
    "    memory.save_context(\n",
    "        {\"input\": question},\n",
    "        {\"output\": result.content},\n",
    "    )\n",
    "    print(result)\n",
    " "
   ]
  },
  {
   "cell_type": "code",
   "execution_count": 2,
   "id": "7e7030b3",
   "metadata": {},
   "outputs": [
    {
     "name": "stdout",
     "output_type": "stream",
     "text": [
      "🧠🌀🕰️content='🧠🌀🕰️'\n"
     ]
    }
   ],
   "source": [
    "invoke_chain(\"What do you wnant to express about Inception?\")"
   ]
  },
  {
   "cell_type": "code",
   "execution_count": 3,
   "id": "f7f77884",
   "metadata": {},
   "outputs": [
    {
     "name": "stdout",
     "output_type": "stream",
     "text": [
      "🦖🌴🔬content='🦖🌴🔬'\n"
     ]
    }
   ],
   "source": [
    "invoke_chain(\"What do you wnant to express about Jurassic Park\")"
   ]
  },
  {
   "cell_type": "code",
   "execution_count": 4,
   "id": "6b396b6e",
   "metadata": {},
   "outputs": [
    {
     "name": "stdout",
     "output_type": "stream",
     "text": [
      "The first movie you asked about was \"Inception.\"content='The first movie you asked about was \"Inception.\"'\n"
     ]
    }
   ],
   "source": [
    "invoke_chain(\"What is the movie I asked about first?\")"
   ]
  },
  {
   "cell_type": "code",
   "execution_count": 5,
   "id": "80c4e5ba",
   "metadata": {},
   "outputs": [
    {
     "name": "stdout",
     "output_type": "stream",
     "text": [
      "❄️👑🎶The human asks what the AI wants to express about Inception. The AI responds with emojis representing the complexity and time-bending nature of the movie.content='❄️👑🎶'\n"
     ]
    }
   ],
   "source": [
    "invoke_chain(\"What do you wnant to express about Frozen?\") "
   ]
  },
  {
   "cell_type": "code",
   "execution_count": 6,
   "id": "3808dfe4",
   "metadata": {},
   "outputs": [
    {
     "name": "stdout",
     "output_type": "stream",
     "text": [
      "🦈🏖️🚤The human asks what the AI wants to express about Inception. The AI responds with emojis representing the complexity and time-bending nature of the movie. When asked about Jurassic Park, the AI responds with emojis of a dinosaur, palm trees, and a microscope.content='🦈🏖️🚤'\n"
     ]
    }
   ],
   "source": [
    "invoke_chain(\"What do you wnant to express about Jaws?\")"
   ]
  },
  {
   "cell_type": "code",
   "execution_count": 12,
   "id": "a3638ba1",
   "metadata": {},
   "outputs": [
    {
     "name": "stdout",
     "output_type": "stream",
     "text": [
      "🌌⚔️🤖The human asks what the AI wants to express about Inception, to which the AI responds with emojis representing the complexity and time-bending nature of the movie. When asked about Jurassic Park, the AI responds with emojis of a dinosaur, palm trees, and a microscope, confirming that the first movie discussed was \"Inception.\" When asked about Frozen, the AI responds with ❄️👑🎶, and when asked about Jaws, the AI responds with 🦈🏖️🚤. The human then asks what the AI wants to express about Star Wars, and the AI responds with 🌌⚔️🤖. The human then asks what the movie they last discussed was, and the AI confirms it was \"Inception.\" When asked about King Kong, the AI responds with 🦍🏢🌆.content='🌌⚔️🤖'\n"
     ]
    }
   ],
   "source": [
    "invoke_chain(\"What do you wnant to express about Star Wars?\") "
   ]
  },
  {
   "cell_type": "code",
   "execution_count": 13,
   "id": "0e50233f",
   "metadata": {},
   "outputs": [
    {
     "name": "stdout",
     "output_type": "stream",
     "text": [
      "The first movie you asked about was \"Inception.\"The human asks what the AI wants to express about Inception, to which the AI responds with emojis representing the complexity and time-bending nature of the movie. When asked about Jurassic Park, the AI responds with emojis of a dinosaur, palm trees, and a microscope, confirming that the first movie discussed was \"Inception.\" When asked about Frozen, the AI responds with ❄️👑🎶, and when asked about Jaws, the AI responds with 🦈🏖️🚤. The human then asks what the AI wants to express about Star Wars, and the AI responds with 🌌⚔️🤖. The human then asks what the movie they last discussed was, and the AI confirms it was \"Inception.\" When asked about King Kong, the AI responds with 🦍🏢🌆. The human then asks what the movie they last discussed was, and the AI confirms it was \"Inception.\"content='The first movie you asked about was \"Inception.\"'\n"
     ]
    }
   ],
   "source": [
    "invoke_chain(\"What is the movie I asked about the first?\") "
   ]
  },
  {
   "cell_type": "code",
   "execution_count": 14,
   "id": "01d75b3b",
   "metadata": {},
   "outputs": [
    {
     "name": "stdout",
     "output_type": "stream",
     "text": [
      "🦍🏢🌆The human asks what the AI wants to express about Inception, to which the AI responds with emojis representing the complexity and time-bending nature of the movie. When asked about Jurassic Park, the AI responds with emojis of a dinosaur, palm trees, and a microscope, confirming that the first movie discussed was \"Inception.\" When asked about Frozen, the AI responds with ❄️👑🎶, and when asked about Jaws, the AI responds with 🦈🏖️🚤. The human then asks what the AI wants to express about Star Wars, and the AI responds with 🌌⚔️🤖. The human then asks what the movie they last discussed was, and the AI confirms it was \"Inception.\" When asked about King Kong, the AI responds with 🦍🏢🌆. The human then asks what the movie they last discussed was, and the AI confirms it was \"Inception.\" The human asks what the movie they discussed first was, and the AI confirms it was \"Inception.\"content='🦍🏢🌆'\n"
     ]
    }
   ],
   "source": [
    "invoke_chain(\"What do you wnant to express about King Kong?\")"
   ]
  },
  {
   "cell_type": "code",
   "execution_count": 15,
   "id": "e6ce120f",
   "metadata": {},
   "outputs": [
    {
     "name": "stdout",
     "output_type": "stream",
     "text": [
      "🦇🃏🌆The human asks what the AI wants to express about Inception, to which the AI responds with emojis representing the complexity and time-bending nature of the movie. When asked about Jurassic Park, the AI responds with emojis of a dinosaur, palm trees, and a microscope, confirming that the first movie discussed was \"Inception.\" When asked about Frozen, the AI responds with ❄️👑🎶, and when asked about Jaws, the AI responds with 🦈🏖️🚤. The human then asks what the AI wants to express about Star Wars, and the AI responds with 🌌⚔️🤖. The human then asks what the movie they last discussed was, and the AI confirms it was \"Inception.\" When asked about King Kong, the AI responds with 🦍🏢🌆. The human then asks what the movie they last discussed was, and the AI confirms it was \"Inception.\" The human asks what the movie they discussed first was, and the AI confirms it was \"Inception.\" The human asks what the AI wants to express about Star Wars, and the AI responds with 🌌⚔️🤖.content='🦇🃏🌆'\n"
     ]
    }
   ],
   "source": [
    "invoke_chain(\"What do you wnant to express about The Dark Knight?\")"
   ]
  }
 ],
 "metadata": {
  "kernelspec": {
   "display_name": "env",
   "language": "python",
   "name": "python3"
  },
  "language_info": {
   "codemirror_mode": {
    "name": "ipython",
    "version": 3
   },
   "file_extension": ".py",
   "mimetype": "text/x-python",
   "name": "python",
   "nbconvert_exporter": "python",
   "pygments_lexer": "ipython3",
   "version": "3.11.6"
  }
 },
 "nbformat": 4,
 "nbformat_minor": 5
}
