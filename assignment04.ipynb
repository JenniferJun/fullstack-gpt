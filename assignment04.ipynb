{
 "cells": [
  {
   "cell_type": "code",
   "execution_count": 5,
   "metadata": {},
   "outputs": [
    {
     "name": "stdout",
     "output_type": "stream",
     "text": [
      "Victory Mansions is a place where Winston resides. It is described as a dilapidated apartment building in a poor state of repair. The building is run-down, with shabby walls and broken elevators. The living conditions are grim, with shortages of basic necessities like electricity and plumbing. The atmosphere is oppressive, with constant surveillance and a sense of fear and control. Despite its name, Victory Mansions do not reflect victory or luxury but rather symbolize the harsh and austere reality of life under the Party's rule."
     ]
    },
    {
     "data": {
      "text/plain": [
       "AIMessageChunk(content=\"Victory Mansions is a place where Winston resides. It is described as a dilapidated apartment building in a poor state of repair. The building is run-down, with shabby walls and broken elevators. The living conditions are grim, with shortages of basic necessities like electricity and plumbing. The atmosphere is oppressive, with constant surveillance and a sense of fear and control. Despite its name, Victory Mansions do not reflect victory or luxury but rather symbolize the harsh and austere reality of life under the Party's rule.\")"
      ]
     },
     "execution_count": 5,
     "metadata": {},
     "output_type": "execute_result"
    }
   ],
   "source": [
    "from langchain.memory import ConversationSummaryBufferMemory\n",
    "from langchain.chat_models import ChatOpenAI\n",
    "from langchain.schema.runnable import RunnablePassthrough\n",
    "from langchain.prompts import ChatPromptTemplate\n",
    "from langchain.document_loaders import UnstructuredFileLoader\n",
    "from langchain.text_splitter import CharacterTextSplitter\n",
    "from langchain.embeddings import OpenAIEmbeddings, CacheBackedEmbeddings\n",
    "from langchain.vectorstores import FAISS, Chroma\n",
    "from langchain.storage import LocalFileStore\n",
    "from langchain.callbacks import StreamingStdOutCallbackHandler\n",
    "\n",
    "# Caching for embeddings\n",
    "cache_dir = LocalFileStore(\"./.cache/\")\n",
    "\n",
    "chat = ChatOpenAI(\n",
    "    temperature=0.1,\n",
    "    streaming=True,\n",
    "    callbacks=[\n",
    "        StreamingStdOutCallbackHandler(),\n",
    "    ],\n",
    ")\n",
    "\n",
    "memory = ConversationSummaryBufferMemory(\n",
    "    llm=chat,\n",
    "    max_length=20,\n",
    "    max_token_limit=100,\n",
    "    return_messages=True,\n",
    ")\n",
    "splitter = CharacterTextSplitter.from_tiktoken_encoder(\n",
    "    separator=\"\\n\",\n",
    "    chunk_size=600,\n",
    "    chunk_overlap=100,\n",
    ")\n",
    "\n",
    "# Loading and splitting the document\n",
    "loader = UnstructuredFileLoader(\"./files/document.txt\")\n",
    "docs = loader.load_and_split(text_splitter=splitter)\n",
    "\n",
    "\n",
    "# Setting up embeddings with caching\n",
    "embeddings = OpenAIEmbeddings()\n",
    "cached_embeddings = CacheBackedEmbeddings.from_bytes_store(embeddings, cache_dir)\n",
    "\n",
    "# Creating the vector store and retriever FAISS | Chroma (switching)\n",
    "vector_store = FAISS.from_documents(docs, cached_embeddings)\n",
    "retriver = vector_store.as_retriever()\n",
    "\n",
    "prompt = ChatPromptTemplate.from_messages(\n",
    "    [\n",
    "        (\n",
    "            \"system\",\n",
    "            \"\"\"\n",
    "            Answer the question using ONLY the following context. If you don't know the answer just say you don't know. DON'T make anything up.\n",
    "            \n",
    "            Context: {context}\n",
    "            \"\"\",\n",
    "        ),\n",
    "        (\"human\", \"{question}\"),\n",
    "    ]\n",
    ")\n",
    "\n",
    "\n",
    "chain = ({ \"context\": retriver,\"question\": RunnablePassthrough(),} | prompt | chat)\n",
    "\n",
    "chain.invoke(\"Describe Victory Mansions\") "
   ]
  },
  {
   "cell_type": "code",
   "execution_count": 6,
   "metadata": {},
   "outputs": [
    {
     "name": "stdout",
     "output_type": "stream",
     "text": [
      "Yes, according to the text, Jones, Aaronson, and Rutherford were guilty of the crimes they were charged with."
     ]
    },
    {
     "data": {
      "text/plain": [
       "AIMessageChunk(content='Yes, according to the text, Jones, Aaronson, and Rutherford were guilty of the crimes they were charged with.')"
      ]
     },
     "execution_count": 6,
     "metadata": {},
     "output_type": "execute_result"
    }
   ],
   "source": [
    "chain.invoke(\"Is Aaronson guilty?\")"
   ]
  },
  {
   "cell_type": "code",
   "execution_count": 7,
   "metadata": {},
   "outputs": [
    {
     "name": "stdout",
     "output_type": "stream",
     "text": [
      "He wrote \"2+2=5\" on the table."
     ]
    },
    {
     "data": {
      "text/plain": [
       "AIMessageChunk(content='He wrote \"2+2=5\" on the table.')"
      ]
     },
     "execution_count": 7,
     "metadata": {},
     "output_type": "execute_result"
    }
   ],
   "source": [
    "chain.invoke(\"What message did he write in the table?\")"
   ]
  },
  {
   "cell_type": "code",
   "execution_count": 8,
   "metadata": {},
   "outputs": [
    {
     "name": "stdout",
     "output_type": "stream",
     "text": [
      "Julia is a character in the text who is significant to the protagonist."
     ]
    },
    {
     "data": {
      "text/plain": [
       "AIMessageChunk(content='Julia is a character in the text who is significant to the protagonist.')"
      ]
     },
     "execution_count": 8,
     "metadata": {},
     "output_type": "execute_result"
    }
   ],
   "source": [
    "chain.invoke(\"Who is Julia?\")"
   ]
  },
  {
   "cell_type": "code",
   "execution_count": 9,
   "metadata": {},
   "outputs": [
    {
     "name": "stdout",
     "output_type": "stream",
     "text": [
      "Victory Mansions is a place where Winston resides. It is described as a dilapidated apartment building in a rundown area. The building is poorly maintained, with shabby walls and broken elevators. The atmosphere is grim and depressing, reflecting the overall bleakness of the society in which Winston lives."
     ]
    },
    {
     "data": {
      "text/plain": [
       "AIMessageChunk(content='Victory Mansions is a place where Winston resides. It is described as a dilapidated apartment building in a rundown area. The building is poorly maintained, with shabby walls and broken elevators. The atmosphere is grim and depressing, reflecting the overall bleakness of the society in which Winston lives.')"
      ]
     },
     "execution_count": 9,
     "metadata": {},
     "output_type": "execute_result"
    }
   ],
   "source": [
    "chain.invoke(\"Describe Victory Mansions\")"
   ]
  }
 ],
 "metadata": {
  "kernelspec": {
   "display_name": "env",
   "language": "python",
   "name": "python3"
  },
  "language_info": {
   "codemirror_mode": {
    "name": "ipython",
    "version": 3
   },
   "file_extension": ".py",
   "mimetype": "text/x-python",
   "name": "python",
   "nbconvert_exporter": "python",
   "pygments_lexer": "ipython3",
   "version": "3.11.6"
  }
 },
 "nbformat": 4,
 "nbformat_minor": 2
}
