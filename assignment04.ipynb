{
 "cells": [
  {
   "cell_type": "code",
   "execution_count": 1,
   "metadata": {},
   "outputs": [
    {
     "name": "stdout",
     "output_type": "stream",
     "text": [
      "Victory Mansions is a place where Winston resides. It is a run-down apartment building in a dystopian society, characterized by its dilapidated state and oppressive atmosphere. The building is described as having a vast face on the opposite wall with the caption \"BIG BROTHER IS WATCHING YOU.\" The residents of Victory Mansions live in a state of constant surveillance and fear, with the looming presence of Big Brother always watching over them. The atmosphere is one of decay and control, reflecting the oppressive nature of the society in which Winston lives."
     ]
    },
    {
     "data": {
      "text/plain": [
       "AIMessageChunk(content='Victory Mansions is a place where Winston resides. It is a run-down apartment building in a dystopian society, characterized by its dilapidated state and oppressive atmosphere. The building is described as having a vast face on the opposite wall with the caption \"BIG BROTHER IS WATCHING YOU.\" The residents of Victory Mansions live in a state of constant surveillance and fear, with the looming presence of Big Brother always watching over them. The atmosphere is one of decay and control, reflecting the oppressive nature of the society in which Winston lives.')"
      ]
     },
     "execution_count": 1,
     "metadata": {},
     "output_type": "execute_result"
    }
   ],
   "source": [
    "from langchain.memory import ConversationSummaryBufferMemory\n",
    "from langchain.chat_models import ChatOpenAI\n",
    "from langchain.schema.runnable import RunnablePassthrough\n",
    "from langchain.prompts import ChatPromptTemplate\n",
    "from langchain.document_loaders import UnstructuredFileLoader\n",
    "from langchain.text_splitter import CharacterTextSplitter\n",
    "from langchain.embeddings import OpenAIEmbeddings, CacheBackedEmbeddings\n",
    "from langchain.vectorstores import FAISS, Chroma\n",
    "from langchain.storage import LocalFileStore\n",
    "from langchain.callbacks import StreamingStdOutCallbackHandler\n",
    "\n",
    "# Caching for embeddings\n",
    "cache_dir = LocalFileStore(\"./.cache/\")\n",
    "\n",
    "chat = ChatOpenAI(\n",
    "    temperature=0.1,\n",
    "    streaming=True,\n",
    "    callbacks=[\n",
    "        StreamingStdOutCallbackHandler(),\n",
    "    ],\n",
    ")\n",
    "\n",
    "\n",
    "memory = ConversationSummaryBufferMemory(\n",
    "    llm=chat,\n",
    "    max_length=20,\n",
    "    max_token_limit=100,\n",
    "    memory_key=\"chat_history\",\n",
    "    return_messages=True,\n",
    ")\n",
    "splitter = CharacterTextSplitter.from_tiktoken_encoder(\n",
    "    separator=\"\\n\",\n",
    "    chunk_size=600,\n",
    "    chunk_overlap=100,\n",
    ")\n",
    "\n",
    "# Loading and splitting the document\n",
    "loader = UnstructuredFileLoader(\"./files/document.txt\")\n",
    "docs = loader.load_and_split(text_splitter=splitter)\n",
    "\n",
    "\n",
    "# Setting up embeddings with caching\n",
    "embeddings = OpenAIEmbeddings()\n",
    "cached_embeddings = CacheBackedEmbeddings.from_bytes_store(embeddings, cache_dir)\n",
    "\n",
    "# Creating the vector store and retriever FAISS | Chroma (switching)\n",
    "vector_store = FAISS.from_documents(docs, cached_embeddings)\n",
    "retriver = vector_store.as_retriever()\n",
    "\n",
    "prompt = ChatPromptTemplate.from_messages(\n",
    "    [\n",
    "        (\n",
    "            \"system\",\n",
    "            \"\"\"\n",
    "            Answer the question using ONLY the following context. If you don't know the answer just say you don't know. DON'T make anything up.\n",
    "            \n",
    "            Context: {context}\n",
    "            \"\"\",\n",
    "        ),\n",
    "        (\"human\", \"{question}\"),\n",
    "    ]\n",
    ")\n",
    "\n",
    "\n",
    "chain = ({ \"context\": retriver,\"question\": RunnablePassthrough(),} | prompt | chat)\n",
    "\n",
    "chain.invoke(\"Describe Victory Mansions\") "
   ]
  },
  {
   "cell_type": "code",
   "execution_count": 2,
   "metadata": {},
   "outputs": [
    {
     "name": "stdout",
     "output_type": "stream",
     "text": [
      "Yes, according to the text, Jones, Aaronson, and Rutherford were guilty of the crimes they were charged with."
     ]
    },
    {
     "data": {
      "text/plain": [
       "AIMessageChunk(content='Yes, according to the text, Jones, Aaronson, and Rutherford were guilty of the crimes they were charged with.')"
      ]
     },
     "execution_count": 2,
     "metadata": {},
     "output_type": "execute_result"
    }
   ],
   "source": [
    "chain.invoke(\"Is Aaronson guilty?\")"
   ]
  },
  {
   "cell_type": "code",
   "execution_count": 3,
   "metadata": {},
   "outputs": [
    {
     "name": "stdout",
     "output_type": "stream",
     "text": [
      "He wrote \"2+2=5\" in the dust on the table."
     ]
    },
    {
     "data": {
      "text/plain": [
       "AIMessageChunk(content='He wrote \"2+2=5\" in the dust on the table.')"
      ]
     },
     "execution_count": 3,
     "metadata": {},
     "output_type": "execute_result"
    }
   ],
   "source": [
    "chain.invoke(\"What message did he write in the table?\")"
   ]
  },
  {
   "cell_type": "code",
   "execution_count": 4,
   "metadata": {},
   "outputs": [
    {
     "name": "stdout",
     "output_type": "stream",
     "text": [
      "Julia is a character mentioned in the provided context."
     ]
    },
    {
     "data": {
      "text/plain": [
       "AIMessageChunk(content='Julia is a character mentioned in the provided context.')"
      ]
     },
     "execution_count": 4,
     "metadata": {},
     "output_type": "execute_result"
    }
   ],
   "source": [
    "chain.invoke(\"Who is Julia?\")"
   ]
  }
 ],
 "metadata": {
  "kernelspec": {
   "display_name": "env",
   "language": "python",
   "name": "python3"
  },
  "language_info": {
   "codemirror_mode": {
    "name": "ipython",
    "version": 3
   },
   "file_extension": ".py",
   "mimetype": "text/x-python",
   "name": "python",
   "nbconvert_exporter": "python",
   "pygments_lexer": "ipython3",
   "version": "3.11.6"
  }
 },
 "nbformat": 4,
 "nbformat_minor": 2
}
