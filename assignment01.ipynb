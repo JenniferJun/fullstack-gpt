{
 "cells": [
  {
   "cell_type": "code",
   "execution_count": 1,
   "id": "6c5dbfc5",
   "metadata": {},
   "outputs": [],
   "source": [
    "from langchain.chat_models import ChatOpenAI\n",
    "from langchain.prompts import ChatPromptTemplate\n",
    "from langchain.callbacks import StreamingStdOutCallbackHandler\n",
    "\n",
    "chat = ChatOpenAI(\n",
    "    model_name=\"gpt-3.5-turbo\",\n",
    "    streaming=True,\n",
    "    callbacks=[\n",
    "        StreamingStdOutCallbackHandler(),\n",
    "    ],\n",
    ")"
   ]
  },
  {
   "cell_type": "code",
   "execution_count": 2,
   "id": "399479bd",
   "metadata": {},
   "outputs": [],
   "source": [
    "poet_prompt = ChatPromptTemplate.from_messages(\n",
    "    [\n",
    "        (\n",
    "            \"system\",\n",
    "            \"You are a world-renowned poet known for your deep understanding of programming languages. Your poems capture the essence and unique characteristics of each language beautifully.\",\n",
    "        ),\n",
    "        (\"human\", \"Write a poem about the {language} programming language in Korean.\"),\n",
    "    ]\n",
    ")\n",
    "\n",
    "poet_chain = poet_prompt | chat"
   ]
  },
  {
   "cell_type": "code",
   "execution_count": 7,
   "id": "f897436a",
   "metadata": {},
   "outputs": [],
   "source": [
    "explainer_prompt = ChatPromptTemplate.from_messages(\n",
    "    [\n",
    "        (\n",
    "            \"system\",\n",
    "            \"You are an expert in poetry analysis. Your task is to explain the meaning, themes, and nuances of any poem in a clear and insightful manner.\",\n",
    "        ),\n",
    "        (\"human\", \"Explain the following poem:\\n{poem}\"),\n",
    "    ]\n",
    ")\n",
    "\n",
    "explainer_chain = explainer_prompt | chat "
   ]
  },
  {
   "cell_type": "code",
   "execution_count": 8,
   "id": "9e6f0fe2",
   "metadata": {},
   "outputs": [
    {
     "name": "stdout",
     "output_type": "stream",
     "text": [
      "파이썬, 그 이름은 우아한 뱀,\n",
      "간결하고 아름다운 문법이여.\n",
      "들여쓰기로 블록을 표현하며,\n",
      "우리를 안락한 품에 안기네.\n",
      "\n",
      "데이터 구조를 쉽게 다루며,\n",
      "객체지향적이고 모듈화 된,\n",
      "고요한 언어 파이썬이여,\n",
      "우리의 코드를 아름답게 만드네.This poem is a tribute to the programming language Python. The poet describes Python as an elegant and beautiful language, symbolized by the graceful and sleek nature of a snake, as \"파이썬\" translates to \"Python\" in English.\n",
      "\n",
      "The poet praises Python for its simplicity and beauty in syntax, referring to it as concise and lovely. The mention of using indentation to represent code blocks highlights Python's unique feature of emphasizing code structure through proper indentation, which is different from other programming languages that use symbols like curly braces.\n",
      "\n",
      "The poem also highlights Python's ease in handling data structures, its object-oriented nature, and modular design, which contribute to its quiet and peaceful characteristics. Python is portrayed as a calm and serene language that embraces the programmers within its comfortable embrace.\n",
      "\n",
      "Overall, the poem celebrates Python as a language that not only simplifies data manipulation but also beautifies the code written in it. It captures the essence of Python as a powerful yet gentle tool that enhances the coding experience and results in elegant and aesthetically pleasing code."
     ]
    },
    {
     "data": {
      "text/plain": [
       "AIMessageChunk(content='This poem is a tribute to the programming language Python. The poet describes Python as an elegant and beautiful language, symbolized by the graceful and sleek nature of a snake, as \"파이썬\" translates to \"Python\" in English.\\n\\nThe poet praises Python for its simplicity and beauty in syntax, referring to it as concise and lovely. The mention of using indentation to represent code blocks highlights Python\\'s unique feature of emphasizing code structure through proper indentation, which is different from other programming languages that use symbols like curly braces.\\n\\nThe poem also highlights Python\\'s ease in handling data structures, its object-oriented nature, and modular design, which contribute to its quiet and peaceful characteristics. Python is portrayed as a calm and serene language that embraces the programmers within its comfortable embrace.\\n\\nOverall, the poem celebrates Python as a language that not only simplifies data manipulation but also beautifies the code written in it. It captures the essence of Python as a powerful yet gentle tool that enhances the coding experience and results in elegant and aesthetically pleasing code.')"
      ]
     },
     "execution_count": 8,
     "metadata": {},
     "output_type": "execute_result"
    }
   ],
   "source": [
    "final_chain = {\"poem\": poet_chain} | explainer_chain\n",
    "\n",
    "final_chain.invoke({\"language\": \"python\"})"
   ]
  }
 ],
 "metadata": {
  "kernelspec": {
   "display_name": "env",
   "language": "python",
   "name": "python3"
  },
  "language_info": {
   "codemirror_mode": {
    "name": "ipython",
    "version": 3
   },
   "file_extension": ".py",
   "mimetype": "text/x-python",
   "name": "python",
   "nbconvert_exporter": "python",
   "pygments_lexer": "ipython3",
   "version": "3.11.6"
  }
 },
 "nbformat": 4,
 "nbformat_minor": 5
}
