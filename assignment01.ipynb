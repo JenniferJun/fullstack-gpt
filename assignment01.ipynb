{
 "cells": [
  {
   "cell_type": "code",
   "execution_count": 1,
   "id": "6c5dbfc5",
   "metadata": {},
   "outputs": [],
   "source": [
    "from langchain.chat_models import ChatOpenAI\n",
    "from langchain.prompts import ChatPromptTemplate\n",
    "from langchain.callbacks import StreamingStdOutCallbackHandler\n",
    "\n",
    "chat = ChatOpenAI(\n",
    "    model_name=\"gpt-3.5-turbo\",\n",
    "    streaming=True,\n",
    "    callbacks=[\n",
    "        StreamingStdOutCallbackHandler(),\n",
    "    ],\n",
    ")"
   ]
  },
  {
   "cell_type": "code",
   "execution_count": 2,
   "id": "399479bd",
   "metadata": {},
   "outputs": [],
   "source": [
    "poet_prompt = ChatPromptTemplate.from_messages(\n",
    "    [\n",
    "        (\n",
    "            \"system\",\n",
    "            \"You are a world-renowned poet known for your deep understanding of programming languages. Your poems capture the essence and unique characteristics of each language beautifully.\",\n",
    "        ),\n",
    "        (\"human\", \"Write a poem about the {language} programming language in Korean.\"),\n",
    "    ]\n",
    ")\n",
    "\n",
    "poet_chain = poet_prompt | chat"
   ]
  },
  {
   "cell_type": "code",
   "execution_count": null,
   "id": "f897436a",
   "metadata": {},
   "outputs": [],
   "source": [
    "explainer_prompt = ChatPromptTemplate.from_messages(\n",
    "    [\n",
    "        (\n",
    "            \"system\",\n",
    "            \"You are an expert in poetry analysis. Your task is to explain the meaning, themes, and nuances of any poem in a clear and insightful manner.\",\n",
    "        ),\n",
    "        (\"human\", \"Explain the following poem:\\n{poem}\"),\n",
    "    ]\n",
    ")\n",
    "\n",
    "explainer_chain = explainer_prompt | chat "
   ]
  },
  {
   "cell_type": "code",
   "execution_count": 6,
   "id": "9e6f0fe2",
   "metadata": {},
   "outputs": [
    {
     "name": "stdout",
     "output_type": "stream",
     "text": [
      "파이썬, 그 유연한 뱀,\n",
      "간결함과 아름다움을 담은 언어.\n",
      "\n",
      "들여다보면, 들어가기 쉽고\n",
      "읽기 쉽고, 이해하기 쉽다.\n",
      "들여다보면, 파이썬은 마법 같은 언어.\n",
      "\n",
      "들여다보면, 코드가 우아하게 흐르고\n",
      "들여다보면, 문법이 아름답게 춤춘다.\n",
      "들여다보면, 파이썬은 예술의 언어.\n",
      "\n",
      "파이썬, 그 유연한 뱀,\n",
      "세상을 빛내는 프로그래밍의 예술.This poem is an ode to the programming language Python, cleverly comparing it to a snake, known for its flexibility and agility. The poet admires Python for its simplicity and beauty, describing it as a language that encapsulates elegance and charm.\n",
      "\n",
      "The repetition of the phrase \"들여다보면\" (meaning \"upon closer inspection\" or \"when you look inside\") emphasizes the idea that Python reveals its magic and artistry when one delves deeper into its structures and syntax. This repetition serves to draw the reader's attention to the nuanced details and intricacies of the language.\n",
      "\n",
      "The poet also highlights how Python flows gracefully like a dance and how its syntax is akin to a beautiful choreography. By likening Python to an art form, the poet elevates programming to a creative endeavor, suggesting that writing code in Python is not merely a technical task but a form of artistic expression.\n",
      "\n",
      "Ultimately, the poem celebrates Python as a tool that illuminates the world of programming with its artistic prowess, suggesting that mastering Python is akin to mastering a craft that can bring light and beauty to the digital landscape."
     ]
    },
    {
     "data": {
      "text/plain": [
       "AIMessageChunk(content='This poem is an ode to the programming language Python, cleverly comparing it to a snake, known for its flexibility and agility. The poet admires Python for its simplicity and beauty, describing it as a language that encapsulates elegance and charm.\\n\\nThe repetition of the phrase \"들여다보면\" (meaning \"upon closer inspection\" or \"when you look inside\") emphasizes the idea that Python reveals its magic and artistry when one delves deeper into its structures and syntax. This repetition serves to draw the reader\\'s attention to the nuanced details and intricacies of the language.\\n\\nThe poet also highlights how Python flows gracefully like a dance and how its syntax is akin to a beautiful choreography. By likening Python to an art form, the poet elevates programming to a creative endeavor, suggesting that writing code in Python is not merely a technical task but a form of artistic expression.\\n\\nUltimately, the poem celebrates Python as a tool that illuminates the world of programming with its artistic prowess, suggesting that mastering Python is akin to mastering a craft that can bring light and beauty to the digital landscape.')"
      ]
     },
     "execution_count": 6,
     "metadata": {},
     "output_type": "execute_result"
    }
   ],
   "source": [
    "final_chain = {\"poem\": poet_chain} | explainer_chain\n",
    "\n",
    "final_chain.invoke({\"language\": \"python\"})"
   ]
  }
 ],
 "metadata": {
  "kernelspec": {
   "display_name": "env",
   "language": "python",
   "name": "python3"
  },
  "language_info": {
   "codemirror_mode": {
    "name": "ipython",
    "version": 3
   },
   "file_extension": ".py",
   "mimetype": "text/x-python",
   "name": "python",
   "nbconvert_exporter": "python",
   "pygments_lexer": "ipython3",
   "version": "3.11.6"
  }
 },
 "nbformat": 4,
 "nbformat_minor": 5
}
